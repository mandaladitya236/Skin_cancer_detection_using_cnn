{
 "cells": [
  {
   "cell_type": "code",
   "execution_count": 1,
   "metadata": {},
   "outputs": [],
   "source": [
    "import cv2\n",
    "import matplotlib.pyplot as plt\n",
    "import sys\n",
    "import pandas as pd\n",
    "import os\n",
    "import glob\n",
    "import numpy as np\n",
    "import random"
   ]
  },
  {
   "cell_type": "code",
   "execution_count": 2,
   "metadata": {},
   "outputs": [],
   "source": [
    "liesons=['akiec','bcc','bkl','nv','df','mel','vasc']"
   ]
  },
  {
   "cell_type": "code",
   "execution_count": 3,
   "metadata": {},
   "outputs": [],
   "source": [
    "def create_softmax(x):\n",
    "    a = [0,0,0,0,0,0,0]\n",
    "    a[liesons.index(x)]=1\n",
    "    return a"
   ]
  },
  {
   "cell_type": "code",
   "execution_count": 4,
   "metadata": {},
   "outputs": [],
   "source": [
    "DATADIR='f:/project/skin-cancer'"
   ]
  },
  {
   "cell_type": "code",
   "execution_count": 5,
   "metadata": {},
   "outputs": [],
   "source": [
    "all_image_path=glob.glob(os.path.join(DATADIR,'*','*.jpg'))"
   ]
  },
  {
   "cell_type": "code",
   "execution_count": 6,
   "metadata": {},
   "outputs": [],
   "source": [
    "image_path_dict={os.path.splitext(os.path.basename(x))[0]:x for x in\n",
    "all_image_path}"
   ]
  },
  {
   "cell_type": "code",
   "execution_count": 7,
   "metadata": {},
   "outputs": [
    {
     "name": "stdout",
     "output_type": "stream",
     "text": [
      "     lesion_id      image_id   dx dx_type   age   sex localization\n",
      "0  HAM_0000118  ISIC_0027419  bkl   histo  80.0  male        scalp\n",
      "1  HAM_0000118  ISIC_0025030  bkl   histo  80.0  male        scalp\n",
      "2  HAM_0002730  ISIC_0026769  bkl   histo  80.0  male        scalp\n",
      "3  HAM_0002730  ISIC_0025661  bkl   histo  80.0  male        scalp\n",
      "4  HAM_0001466  ISIC_0031633  bkl   histo  75.0  male          ear\n"
     ]
    }
   ],
   "source": [
    "df=pd.read_csv(\"f:/project/skin-cancer/HAM10000_metadata.csv\")\n",
    "print(df.head())"
   ]
  },
  {
   "cell_type": "code",
   "execution_count": 8,
   "metadata": {},
   "outputs": [],
   "source": [
    "df['image_path']=df['image_id'].map(image_path_dict.get)"
   ]
  },
  {
   "cell_type": "code",
   "execution_count": 9,
   "metadata": {},
   "outputs": [
    {
     "name": "stdout",
     "output_type": "stream",
     "text": [
      "(100, 100)\n"
     ]
    }
   ],
   "source": [
    "IMAGE_SIZE=(100,100)\n",
    "print(IMAGE_SIZE)"
   ]
  },
  {
   "cell_type": "code",
   "execution_count": 10,
   "metadata": {
    "scrolled": true
   },
   "outputs": [],
   "source": [
    "def create_dataset():\n",
    "    dataset=[]\n",
    "    for index in df.index:\n",
    "        try:\n",
    "            image=cv2.imread(df.image_path[index],cv2.IMREAD_GRAYSCALE)\n",
    "            image=cv2.resize(image,IMAGE_SIZE)\n",
    "            label=liesons.index(df.dx[index])\n",
    "            dataset.append([image,label])\n",
    "        \n",
    "        except Exception as e:\n",
    "            print(str(e))\n",
    "    return dataset\n",
    "image_dataset=create_dataset()\n",
    "random.shuffle(image_dataset)\n",
    "    "
   ]
  },
  {
   "cell_type": "code",
   "execution_count": 11,
   "metadata": {},
   "outputs": [
    {
     "name": "stdout",
     "output_type": "stream",
     "text": [
      "(10015,)\n"
     ]
    }
   ],
   "source": [
    "def create_sample_dataset(x):\n",
    "    X=[]\n",
    "    y=[]\n",
    "    for features,label in x:\n",
    "        X.append(features)\n",
    "        y.append(label)\n",
    "        \n",
    "    X=np.array(X).reshape(-1,IMAGE_SIZE[0],IMAGE_SIZE[1],1)\n",
    "    y=np.array(y)\n",
    "    print(y.shape)\n",
    "    return X,y\n",
    "X,y=create_sample_dataset(image_dataset)\n"
   ]
  },
  {
   "cell_type": "code",
   "execution_count": 12,
   "metadata": {},
   "outputs": [],
   "source": [
    "#convlolutional neural network\n",
    "import tensorflow as tf\n",
    "from tensorflow.keras.models import Sequential\n",
    "from tensorflow.keras.layers import (Dense,Activation,Conv2D,\n",
    "MaxPooling2D,Flatten)"
   ]
  },
  {
   "cell_type": "code",
   "execution_count": 13,
   "metadata": {
    "scrolled": false
   },
   "outputs": [
    {
     "name": "stderr",
     "output_type": "stream",
     "text": [
      "Using TensorFlow backend.\n"
     ]
    }
   ],
   "source": [
    "from keras import backend as k \n",
    "#k.tensorflow_backend._get_available_gpus()\n",
    "\n",
    "def _get_available_gpus():\n",
    "\n",
    "    global _LOCAL_DEVICES\n",
    "    if _LOCAL_DEVICES is None:\n",
    "        if _is_tf_1():\n",
    "            devices = get_session().list_devices()\n",
    "            _LOCAL_DEVICES = [x.name for x in devices]\n",
    "        else:\n",
    "            devices = tf.config.list_logical_devices()\n",
    "            _LOCAL_DEVICES = [x.name for x in devices]\n",
    "    return [x for x in _LOCAL_DEVICES if 'device:gpu' in x.lower()]\n",
    "import warnings\n",
    "warnings.filterwarnings(\"ignore\")"
   ]
  },
  {
   "cell_type": "code",
   "execution_count": 14,
   "metadata": {},
   "outputs": [],
   "source": [
    "X=X/255.0"
   ]
  },
  {
   "cell_type": "code",
   "execution_count": 15,
   "metadata": {},
   "outputs": [
    {
     "name": "stdout",
     "output_type": "stream",
     "text": [
      "(10015, 100, 100, 1)\n",
      "(10015,)\n"
     ]
    }
   ],
   "source": [
    "print(X.shape)\n",
    "print(y.shape)"
   ]
  },
  {
   "cell_type": "code",
   "execution_count": 16,
   "metadata": {},
   "outputs": [],
   "source": [
    "cnn_model=Sequential()"
   ]
  },
  {
   "cell_type": "code",
   "execution_count": 17,
   "metadata": {},
   "outputs": [],
   "source": [
    "cnn_model.add(Conv2D(32,(3,3),input_shape=X.shape[1:],\n",
    "kernel_initializer='glorot_normal'))\n",
    "cnn_model.add(Activation(\"relu\"))\n",
    "cnn_model.add(MaxPooling2D(pool_size=(2,2)))"
   ]
  },
  {
   "cell_type": "code",
   "execution_count": 18,
   "metadata": {},
   "outputs": [],
   "source": [
    "cnn_model.add(Conv2D(64,(3,3),kernel_initializer=\"glorot_normal\"))\n",
    "cnn_model.add(Activation(\"relu\"))\n",
    "cnn_model.add(MaxPooling2D(pool_size=(2,2)))"
   ]
  },
  {
   "cell_type": "code",
   "execution_count": 19,
   "metadata": {},
   "outputs": [],
   "source": [
    "cnn_model.add(Conv2D(128,(3,3),kernel_initializer=\"glorot_normal\"))\n",
    "cnn_model.add(Activation(\"relu\"))\n",
    "cnn_model.add(MaxPooling2D(pool_size=(2,2)))"
   ]
  },
  {
   "cell_type": "code",
   "execution_count": 20,
   "metadata": {},
   "outputs": [],
   "source": [
    "cnn_model.add(Flatten())"
   ]
  },
  {
   "cell_type": "code",
   "execution_count": 21,
   "metadata": {},
   "outputs": [],
   "source": [
    "cnn_model.add(Dense(128,kernel_initializer=\"glorot_normal\",\n",
    "bias_initializer=\"glorot_normal\"))"
   ]
  },
  {
   "cell_type": "code",
   "execution_count": 22,
   "metadata": {},
   "outputs": [],
   "source": [
    "cnn_model.add(Dense(7))\n",
    "cnn_model.add(Activation(\"softmax\"))"
   ]
  },
  {
   "cell_type": "code",
   "execution_count": 23,
   "metadata": {},
   "outputs": [],
   "source": [
    "cnn_model.compile(loss=\"sparse_categorical_crossentropy\",\n",
    "optimizer=\"adam\",\n",
    "metrics=['accuracy'])"
   ]
  },
  {
   "cell_type": "code",
   "execution_count": 24,
   "metadata": {
    "scrolled": false
   },
   "outputs": [
    {
     "name": "stdout",
     "output_type": "stream",
     "text": [
      "Epoch 1/10\n",
      "75/75 [==============================] - 69s 919ms/step - loss: 1.1677 - accuracy: 0.6626 - val_loss: 1.1148 - val_accuracy: 0.6467\n",
      "Epoch 2/10\n",
      "75/75 [==============================] - 66s 877ms/step - loss: 1.0279 - accuracy: 0.6716 - val_loss: 1.0040 - val_accuracy: 0.6547\n",
      "Epoch 3/10\n",
      "75/75 [==============================] - 66s 883ms/step - loss: 0.9567 - accuracy: 0.6807 - val_loss: 0.9486 - val_accuracy: 0.6587\n",
      "Epoch 4/10\n",
      "75/75 [==============================] - 68s 902ms/step - loss: 0.9280 - accuracy: 0.6870 - val_loss: 0.9442 - val_accuracy: 0.6587\n",
      "Epoch 5/10\n",
      "75/75 [==============================] - 70s 936ms/step - loss: 0.9035 - accuracy: 0.6925 - val_loss: 0.9235 - val_accuracy: 0.6806\n",
      "Epoch 6/10\n",
      "75/75 [==============================] - 66s 882ms/step - loss: 0.8840 - accuracy: 0.6991 - val_loss: 0.9061 - val_accuracy: 0.6886\n",
      "Epoch 7/10\n",
      "75/75 [==============================] - 66s 882ms/step - loss: 0.8658 - accuracy: 0.7038 - val_loss: 0.8870 - val_accuracy: 0.6727\n",
      "Epoch 8/10\n",
      "75/75 [==============================] - 66s 886ms/step - loss: 0.8549 - accuracy: 0.7106 - val_loss: 0.8921 - val_accuracy: 0.6826\n",
      "Epoch 9/10\n",
      "75/75 [==============================] - 67s 895ms/step - loss: 0.8344 - accuracy: 0.7146 - val_loss: 0.8773 - val_accuracy: 0.6926\n",
      "Epoch 10/10\n",
      "75/75 [==============================] - 67s 888ms/step - loss: 0.8080 - accuracy: 0.7216 - val_loss: 0.8805 - val_accuracy: 0.6946\n"
     ]
    }
   ],
   "source": [
    "cnn_history=cnn_model.fit(X,y,batch_size=128,epochs=10,validation_split=0.05)"
   ]
  },
  {
   "cell_type": "code",
   "execution_count": 25,
   "metadata": {},
   "outputs": [
    {
     "name": "stdout",
     "output_type": "stream",
     "text": [
      "Epoch 1/10\n",
      "WARNING:tensorflow:Layer flatten_1 is casting an input tensor from dtype float64 to the layer's dtype of float32, which is new behavior in TensorFlow 2.  The layer has dtype float32 because it's dtype defaults to floatx.\n",
      "\n",
      "If you intended to run this layer in float32, you can safely ignore this warning. If in doubt, this warning is likely only an issue if you are porting a TensorFlow 1.X model to TensorFlow 2.\n",
      "\n",
      "To change all layers to have dtype float64 by default, call `tf.keras.backend.set_floatx('float64')`. To change just this layer, pass dtype='float64' to the layer constructor. If you are the author of this layer, you can disable autocasting by passing autocast=False to the base Layer constructor.\n",
      "\n",
      "75/75 [==============================] - 4s 55ms/step - loss: 1.1669 - accuracy: 0.6555 - val_loss: 1.1449 - val_accuracy: 0.6467\n",
      "Epoch 2/10\n",
      "75/75 [==============================] - 4s 52ms/step - loss: 1.0937 - accuracy: 0.6707 - val_loss: 1.1066 - val_accuracy: 0.6467\n",
      "Epoch 3/10\n",
      "75/75 [==============================] - 4s 58ms/step - loss: 1.0805 - accuracy: 0.6707 - val_loss: 1.1123 - val_accuracy: 0.6467\n",
      "Epoch 4/10\n",
      "75/75 [==============================] - 5s 61ms/step - loss: 1.0749 - accuracy: 0.6707 - val_loss: 1.0740 - val_accuracy: 0.6467\n",
      "Epoch 5/10\n",
      "75/75 [==============================] - 5s 64ms/step - loss: 1.0546 - accuracy: 0.6697 - val_loss: 1.0797 - val_accuracy: 0.6467\n",
      "Epoch 6/10\n",
      "75/75 [==============================] - 4s 57ms/step - loss: 1.0558 - accuracy: 0.6696 - val_loss: 1.0854 - val_accuracy: 0.6447\n",
      "Epoch 7/10\n",
      "75/75 [==============================] - 5s 60ms/step - loss: 1.0409 - accuracy: 0.6700 - val_loss: 1.0439 - val_accuracy: 0.6487\n",
      "Epoch 8/10\n",
      "75/75 [==============================] - 4s 55ms/step - loss: 1.0357 - accuracy: 0.6700 - val_loss: 1.0419 - val_accuracy: 0.6467\n",
      "Epoch 9/10\n",
      "75/75 [==============================] - 4s 55ms/step - loss: 1.0455 - accuracy: 0.6703 - val_loss: 1.0726 - val_accuracy: 0.6467\n",
      "Epoch 10/10\n",
      "75/75 [==============================] - 5s 63ms/step - loss: 1.0379 - accuracy: 0.6708 - val_loss: 1.1114 - val_accuracy: 0.6487\n"
     ]
    }
   ],
   "source": [
    "#importingimportantlibraries\n",
    "import tensorflow as tf\n",
    "from tensorflow.keras.models import Sequential\n",
    "from tensorflow.keras.layers import Dense,Dropout,Flatten\n",
    "from keras.utils import normalize,to_categorical\n",
    "#enablingtheGPU\n",
    "#from keras import backend as K\n",
    "#K.tensorflow_backend._get_available_gpus()\n",
    "#normalizingthedata\n",
    "X=normalize(X,axis=1)\n",
    "y=to_categorical(y)\n",
    "#generatingthemodel\n",
    "ann_model=Sequential()\n",
    "ann_model.add(Flatten())\n",
    "#firstlayerwith500neuronsandreluactivationfunction\n",
    "ann_model.add(Dense(500,kernel_initializer=\"glorot_normal\",\n",
    "bias_initializer=\"glorot_normal\",activation=\"relu\"))\n",
    "#secondlayerwith500neuronsandreluactivationfunction\n",
    "ann_model.add(Dense(500,kernel_initializer=\"glorot_normal\",\n",
    "bias_initializer=\"glorot_normal\",activation=\"relu\"))\n",
    "#thirdlayerwith500neuronsandreluactivationfunction\n",
    "ann_model.add(Dense(500,kernel_initializer=\"glorot_normal\",\n",
    "bias_initializer=\"glorot_normal\",activation=\"relu\"))\n",
    "#fourthlayerwith500neuronsandreluactivationfunction\n",
    "ann_model.add(Dense(500,kernel_initializer=\"glorot_normal\",\n",
    "bias_initializer=\"glorot_normal\",activation=\"relu\"))\n",
    "#fifthlayerwith500neuronsandreluactivationfunction\n",
    "ann_model.add(Dense(500,kernel_initializer=\"glorot_normal\",\n",
    "bias_initializer=\"glorot_normal\",activation=\"relu\"))\n",
    "#outputsoftmaxlayer\n",
    "ann_model.add(Dense(7,kernel_initializer=\"glorot_normal\",\n",
    "bias_initializer=\"glorot_normal\",activation=\"softmax\"))\n",
    "ann_model.compile(loss=\"categorical_crossentropy\",\n",
    "optimizer=\"adam\",\n",
    "metrics=[\"accuracy\"])\n",
    "ann_history=ann_model.fit(X,y,epochs=10,batch_size=128,\n",
    "validation_split=0.05)\n",
    "\n"
   ]
  },
  {
   "cell_type": "code",
   "execution_count": 26,
   "metadata": {},
   "outputs": [
    {
     "data": {
      "image/png": "[encoded data removed]",
      "text/plain": [
       "<Figure size 432x288 with 1 Axes>"
      ]
     },
     "metadata": {
      "needs_background": "light"
     },
     "output_type": "display_data"
    }
   ],
   "source": [
    "#loss comparison\n",
    "#obtaining the successive loss after each epoch\n",
    "ann_loss=ann_history.history[\"loss\"]\n",
    "ann_val_loss=ann_history.history[\"val_loss\"]\n",
    "cnn_loss=cnn_history.history[\"loss\"]\n",
    "cnn_val_loss=cnn_history.history[\"val_loss\"]\n",
    "#dynamically generating the number of epochs\n",
    "epochs=range(1,len(ann_loss)+1,1)\n",
    "#plotting the graph\n",
    "plt.plot(epochs,ann_loss,'r',label=\"ANN Training Loss\")\n",
    "plt.plot(epochs,ann_val_loss,'y',\"ANN Validation Loss\")\n",
    "plt.plot(epochs,cnn_loss,'b',label=\"CNN Training Loss\")\n",
    "plt.plot(epochs,cnn_val_loss,'g',label=\"CNN Validation Loss\")\n",
    "plt.xlabel(\"Epochs\")\n",
    "plt.ylabel(\"Loss\")\n",
    "plt.title(\"Training and Validation Loss for ANN and CNN\")\n",
    "plt.legend()\n",
    "plt.show()\n"
   ]
  },
  {
   "cell_type": "code",
   "execution_count": 33,
   "metadata": {
    "scrolled": true
   },
   "outputs": [
    {
     "data": {
      "image/png": "[encoded data removed]",
      "text/plain": [
       "<Figure size 432x288 with 1 Axes>"
      ]
     },
     "metadata": {
      "needs_background": "light"
     },
     "output_type": "display_data"
    }
   ],
   "source": [
    "#accuracy comparison\n",
    "#obtaining the accuracy after every successive epoch\n",
    "ann_acc=ann_history.history['accuracy']\n",
    "ann_val_acc=ann_history.history[\"val_accuracy\"]\n",
    "cnn_acc=cnn_history.history[\"accuracy\"]\n",
    "cnn_val_acc=cnn_history.history[\"val_accuracy\"]\n",
    "#dynamically getting the number of epochs\n",
    "epochs=range(1,len(ann_acc)+1,1)\n",
    "#Plotting the accuracy ys epoch graph\n",
    "plt.plot(epochs,ann_acc,'r',label=\"ANN Training accuracy\")\n",
    "plt.plot(epochs,ann_val_acc,'y',label=\"ANN Validation accuracy\")\n",
    "plt.plot(epochs,cnn_acc,'b',label=\"CNN Training accuracy\")\n",
    "plt.plot(epochs,cnn_val_acc,'g',label=\"CNN Validation accuracy\")\n",
    "plt.xlabel(\"Epochs\")\n",
    "plt.ylabel(\"Accuracy\")\n",
    "plt.title(\"Training and Validation Accuracy for ANN and CNN\")\n",
    "plt.legend()\n",
    "plt.show()\n"
   ]
  },
  {
   "cell_type": "code",
   "execution_count": null,
   "metadata": {},
   "outputs": [],
   "source": []
  },
  {
   "cell_type": "code",
   "execution_count": null,
   "metadata": {},
   "outputs": [],
   "source": []
  }
 ],
 "metadata": {
  "kernelspec": {
   "display_name": "Python 3",
   "language": "python",
   "name": "python3"
  },
  "language_info": {
   "codemirror_mode": {
    "name": "ipython",
    "version": 3
   },
   "file_extension": ".py",
   "mimetype": "text/x-python",
   "name": "python",
   "nbconvert_exporter": "python",
   "pygments_lexer": "ipython3",
   "version": "3.7.6"
  }
 },
 "nbformat": 4,
 "nbformat_minor": 4
}
